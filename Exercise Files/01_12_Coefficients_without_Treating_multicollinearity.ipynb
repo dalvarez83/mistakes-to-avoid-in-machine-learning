{
 "cells": [
  {
   "cell_type": "markdown",
   "metadata": {
    "colab_type": "text",
    "id": "VeP9yULPUcOv"
   },
   "source": [
    "## Interpreting your coefficients with multicollinearity"
   ]
  },
  {
   "cell_type": "markdown",
   "metadata": {
    "colab_type": "text",
    "id": "geybpWf__jSH"
   },
   "source": [
    "**Multicollinearity** is when one predictor variable in your regression model can be accurately predicted from the others.\n"
   ]
  },
  {
   "cell_type": "code",
   "execution_count": 1,
   "metadata": {
    "colab": {
     "base_uri": "https://localhost:8080/",
     "height": 72
    },
    "colab_type": "code",
    "executionInfo": {
     "elapsed": 1031,
     "status": "ok",
     "timestamp": 1594912392680,
     "user": {
      "displayName": "Brett Vanderblock",
      "photoUrl": "https://lh3.googleusercontent.com/a-/AOh14GhmgXUM06I_0Utz7PNi8ns4XuV5Uba2Tr63jSQX=s64",
      "userId": "08986418591522242227"
     },
     "user_tz": 420
    },
    "id": "0AAnVc4R4Sf4",
    "outputId": "8f403b5f-4465-44c4-d93b-56a2fa8a5d61"
   },
   "outputs": [],
   "source": [
    "import seaborn as sns\n",
    "import pandas as pd\n",
    "import numpy as np\n",
    "\n",
    "#Load the data set\n",
    "iris = sns.load_dataset(\"iris\")\n",
    "iris.head()\n",
    "iris = iris[iris['species']!='setosa']\n",
    "iris['species'] = iris['species'].apply(lambda x: 1 if x == 'versicolor' else 0)"
   ]
  },
  {
   "cell_type": "code",
   "execution_count": 2,
   "metadata": {
    "colab": {},
    "colab_type": "code",
    "executionInfo": {
     "elapsed": 633,
     "status": "ok",
     "timestamp": 1594912471581,
     "user": {
      "displayName": "Brett Vanderblock",
      "photoUrl": "https://lh3.googleusercontent.com/a-/AOh14GhmgXUM06I_0Utz7PNi8ns4XuV5Uba2Tr63jSQX=s64",
      "userId": "08986418591522242227"
     },
     "user_tz": 420
    },
    "id": "yhZNv7HH5DZv"
   },
   "outputs": [],
   "source": [
    "y = iris['species']\n",
    "X = iris[['sepal_length','sepal_width','petal_length','petal_width']]"
   ]
  },
  {
   "cell_type": "code",
   "execution_count": 3,
   "metadata": {
    "colab": {
     "base_uri": "https://localhost:8080/",
     "height": 454
    },
    "colab_type": "code",
    "executionInfo": {
     "elapsed": 1294,
     "status": "ok",
     "timestamp": 1594912524624,
     "user": {
      "displayName": "Brett Vanderblock",
      "photoUrl": "https://lh3.googleusercontent.com/a-/AOh14GhmgXUM06I_0Utz7PNi8ns4XuV5Uba2Tr63jSQX=s64",
      "userId": "08986418591522242227"
     },
     "user_tz": 420
    },
    "id": "xrLZVZUE4TKW",
    "outputId": "871deecd-b3c7-43b6-f182-166b1e4b07f0"
   },
   "outputs": [
    {
     "name": "stdout",
     "output_type": "stream",
     "text": [
      "Optimization terminated successfully.\n",
      "         Current function value: 0.059493\n",
      "         Iterations 12\n",
      "                           Logit Regression Results                           \n",
      "==============================================================================\n",
      "Dep. Variable:                species   No. Observations:                  100\n",
      "Model:                          Logit   Df Residuals:                       95\n",
      "Method:                           MLE   Df Model:                            4\n",
      "Date:                Thu, 30 Sep 2021   Pseudo R-squ.:                  0.9142\n",
      "Time:                        13:59:48   Log-Likelihood:                -5.9493\n",
      "converged:                       True   LL-Null:                       -69.315\n",
      "Covariance Type:            nonrobust   LLR p-value:                 1.947e-26\n",
      "================================================================================\n",
      "                   coef    std err          z      P>|z|      [0.025      0.975]\n",
      "--------------------------------------------------------------------------------\n",
      "const           42.6378     25.708      1.659      0.097      -7.748      93.024\n",
      "sepal_length     2.4652      2.394      1.030      0.303      -2.228       7.158\n",
      "sepal_width      6.6809      4.480      1.491      0.136      -2.099      15.461\n",
      "petal_length    -9.4294      4.737     -1.990      0.047     -18.714      -0.145\n",
      "petal_width    -18.2861      9.743     -1.877      0.061     -37.381       0.809\n",
      "================================================================================\n",
      "\n",
      "Possibly complete quasi-separation: A fraction 0.60 of observations can be\n",
      "perfectly predicted. This might indicate that there is complete\n",
      "quasi-separation. In this case some parameters will not be identified.\n"
     ]
    }
   ],
   "source": [
    "import statsmodels.api as sm\n",
    "from statsmodels.tools.tools import add_constant\n",
    "\n",
    "X = add_constant(X)\n",
    "\n",
    "model = sm.Logit(y, X)\n",
    " \n",
    "result = model.fit()\n",
    "\n",
    "print(result.summary())"
   ]
  },
  {
   "cell_type": "markdown",
   "metadata": {
    "colab_type": "text",
    "id": "VzWSJF_xBtsb"
   },
   "source": [
    "**Variance Inflation Factor (VIF)** tells us the extent to which we have multicollinearity in our result - a factor of 5 to 10 or more is considered high and tells us to be wary of the model coefficients."
   ]
  },
  {
   "cell_type": "code",
   "execution_count": 4,
   "metadata": {
    "colab": {},
    "colab_type": "code",
    "executionInfo": {
     "elapsed": 340,
     "status": "ok",
     "timestamp": 1594912781416,
     "user": {
      "displayName": "Brett Vanderblock",
      "photoUrl": "https://lh3.googleusercontent.com/a-/AOh14GhmgXUM06I_0Utz7PNi8ns4XuV5Uba2Tr63jSQX=s64",
      "userId": "08986418591522242227"
     },
     "user_tz": 420
    },
    "id": "2WNebqdM5Zom"
   },
   "outputs": [],
   "source": [
    "from statsmodels.stats.outliers_influence import variance_inflation_factor\n",
    "\n",
    "vif = [variance_inflation_factor(X.values, i) for i in range(X.shape[1])]"
   ]
  },
  {
   "cell_type": "code",
   "execution_count": 5,
   "metadata": {
    "colab": {
     "base_uri": "https://localhost:8080/",
     "height": 204
    },
    "colab_type": "code",
    "executionInfo": {
     "elapsed": 323,
     "status": "ok",
     "timestamp": 1594912788540,
     "user": {
      "displayName": "Brett Vanderblock",
      "photoUrl": "https://lh3.googleusercontent.com/a-/AOh14GhmgXUM06I_0Utz7PNi8ns4XuV5Uba2Tr63jSQX=s64",
      "userId": "08986418591522242227"
     },
     "user_tz": 420
    },
    "id": "bTCRih6XnCWA",
    "outputId": "36e672a3-bc56-45e5-9a90-42ba3ba9f048"
   },
   "outputs": [
    {
     "data": {
      "text/html": [
       "<div>\n",
       "<style scoped>\n",
       "    .dataframe tbody tr th:only-of-type {\n",
       "        vertical-align: middle;\n",
       "    }\n",
       "\n",
       "    .dataframe tbody tr th {\n",
       "        vertical-align: top;\n",
       "    }\n",
       "\n",
       "    .dataframe thead th {\n",
       "        text-align: right;\n",
       "    }\n",
       "</style>\n",
       "<table border=\"1\" class=\"dataframe\">\n",
       "  <thead>\n",
       "    <tr style=\"text-align: right;\">\n",
       "      <th></th>\n",
       "      <th>0</th>\n",
       "      <th>1</th>\n",
       "    </tr>\n",
       "  </thead>\n",
       "  <tbody>\n",
       "    <tr>\n",
       "      <th>0</th>\n",
       "      <td>const</td>\n",
       "      <td>125.170277</td>\n",
       "    </tr>\n",
       "    <tr>\n",
       "      <th>1</th>\n",
       "      <td>sepal_length</td>\n",
       "      <td>3.990113</td>\n",
       "    </tr>\n",
       "    <tr>\n",
       "      <th>2</th>\n",
       "      <td>sepal_width</td>\n",
       "      <td>1.721954</td>\n",
       "    </tr>\n",
       "    <tr>\n",
       "      <th>3</th>\n",
       "      <td>petal_length</td>\n",
       "      <td>7.252447</td>\n",
       "    </tr>\n",
       "    <tr>\n",
       "      <th>4</th>\n",
       "      <td>petal_width</td>\n",
       "      <td>3.948354</td>\n",
       "    </tr>\n",
       "  </tbody>\n",
       "</table>\n",
       "</div>"
      ],
      "text/plain": [
       "              0           1\n",
       "0         const  125.170277\n",
       "1  sepal_length    3.990113\n",
       "2   sepal_width    1.721954\n",
       "3  petal_length    7.252447\n",
       "4   petal_width    3.948354"
      ]
     },
     "execution_count": 5,
     "metadata": {},
     "output_type": "execute_result"
    }
   ],
   "source": [
    "pd.DataFrame(list(zip(list(X.columns),vif)))"
   ]
  },
  {
   "cell_type": "code",
   "execution_count": 6,
   "metadata": {
    "colab": {},
    "colab_type": "code",
    "id": "8OYOcgX2pPG0"
   },
   "outputs": [
    {
     "data": {
      "text/plain": [
       "(100, 5)"
      ]
     },
     "execution_count": 6,
     "metadata": {},
     "output_type": "execute_result"
    }
   ],
   "source": [
    "X.shape"
   ]
  },
  {
   "cell_type": "code",
   "execution_count": null,
   "metadata": {},
   "outputs": [],
   "source": []
  }
 ],
 "metadata": {
  "colab": {
   "authorship_tag": "ABX9TyMN66rRqjkd/LXzPypGOlKw",
   "name": "13 - Interpreting your coefficients without properly treating for multicollinearity.ipynb",
   "provenance": []
  },
  "kernelspec": {
   "display_name": "Python 3",
   "language": "python",
   "name": "python3"
  },
  "language_info": {
   "codemirror_mode": {
    "name": "ipython",
    "version": 3
   },
   "file_extension": ".py",
   "mimetype": "text/x-python",
   "name": "python",
   "nbconvert_exporter": "python",
   "pygments_lexer": "ipython3",
   "version": "3.8.8"
  }
 },
 "nbformat": 4,
 "nbformat_minor": 1
}
